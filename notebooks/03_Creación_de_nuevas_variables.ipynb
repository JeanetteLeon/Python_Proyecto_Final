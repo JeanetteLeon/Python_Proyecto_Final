{
 "cells": [
  {
   "cell_type": "markdown",
   "metadata": {},
   "source": [
    "\n",
    "<div>\n",
    "<img src=\"https://i.ibb.co/v3CvVz9/udd-short.png\" width=\"150\"/>\n",
    "    <br>\n",
    "    <strong>Universidad del Desarrollo</strong><br>\n",
    "    <em>Magíster en Data Science</em><br>\n",
    "    <em>Profesor: Víctor Navarro Aránguiz</em><br>\n",
    "\n",
    "</div>\n",
    "\n",
    "# Python para Data Science: Proyecto Final\n",
    "\n",
    "**Fecha de Entrega**: 06 de Agosto de 2024\n",
    "\n",
    "**Objetivos:**\n",
    "  - Aplicar los conceptos aprendidos en clases.\n",
    "  - Realizar el análisis de un dataset de su preferencia.\n",
    "  - Familiarizarse con el manejo de versiones a través de Git\n",
    "\n",
    "**Puntaje Total:** 24 Puntos\n",
    "\n",
    "**Nombre Estudiante(s)**: `Jeanette León Vejar`\n",
    "\n",
    "**Link Github**: [GitHub Proyecto Final](https://github.com/JeanetteLeon/Python_Proyecto_Final)"
   ]
  },
  {
   "cell_type": "markdown",
   "metadata": {},
   "source": [
    "## Creación de nuevas variables a partir de las existentes\n",
    "\n",
    "\n",
    "Como se mencionó en el apartado anterior se tomará como medida de tratamiento de outliers alternativo, la creación de nuevas variables para quitar el ruido del dataset.\n",
    "\n",
    "### Definición de nuevas variables \n",
    "\n",
    "- `Largometraje` (boolean): Categoriza si la película es un largometraje (es superior a 2 horas).\n",
    "- `Categ_metascore` (boolean): Categoriza si la película tuvo evaluación por los grandes criticos de la industria.\n",
    "- `Popularidad` (string): Categoriza la popularidad medida por la cantidad de votos: Baja (0-100k votos), Media (100k a 200k votos) y Alta (>200k votos).\n",
    "- `Categ_ganancia` (string): Categoriza la ganancias brutas recaudadas por la película: Baja (0-20M), Media (20M a 100M votos) y Alta (>100M).\n",
    "- `Top_3_genero` (boolean): Categoriza, si la película tiene como género alguno del 3 mejores o más populares dado este dataset. \n",
    "- `Rating_publico_vs_criticos` (int): Se tendría una estimación general de que la opinión del público (`Rating`) y criticos(`Metascore`) si convergen (este tendería a cero). Para esto se parametrizaría el campo `Metascore` dividendolo por 10 y así tendrían variables la misma escala de 0 a 10 y luego se restarian ambas variables.\n",
    "\n",
    "\n",
    "\n",
    "\n"
   ]
  },
  {
   "cell_type": "code",
   "execution_count": 1,
   "metadata": {},
   "outputs": [],
   "source": [
    "# Librerías\n",
    "\n",
    "import pandas as pd"
   ]
  },
  {
   "cell_type": "code",
   "execution_count": null,
   "metadata": {},
   "outputs": [],
   "source": []
  }
 ],
 "metadata": {
  "kernelspec": {
   "display_name": "proyecto_final (Python 3.12)",
   "language": "python",
   "name": "proyecto_final"
  },
  "language_info": {
   "codemirror_mode": {
    "name": "ipython",
    "version": 3
   },
   "file_extension": ".py",
   "mimetype": "text/x-python",
   "name": "python",
   "nbconvert_exporter": "python",
   "pygments_lexer": "ipython3",
   "version": "3.12.4"
  }
 },
 "nbformat": 4,
 "nbformat_minor": 2
}
