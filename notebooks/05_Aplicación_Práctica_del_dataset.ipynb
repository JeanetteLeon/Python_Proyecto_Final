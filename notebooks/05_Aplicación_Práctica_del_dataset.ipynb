{
 "cells": [
  {
   "cell_type": "markdown",
   "metadata": {},
   "source": [
    "\n",
    "<div>\n",
    "<img src=\"https://i.ibb.co/v3CvVz9/udd-short.png\" width=\"150\"/>\n",
    "    <br>\n",
    "    <strong>Universidad del Desarrollo</strong><br>\n",
    "    <em>Magíster en Data Science</em><br>\n",
    "    <em>Profesor: Víctor Navarro Aránguiz</em><br>\n",
    "\n",
    "</div>\n",
    "\n",
    "# Python para Data Science: Proyecto Final\n",
    "\n",
    "**Fecha de Entrega**: 06 de Agosto de 2024\n",
    "\n",
    "**Objetivos:**\n",
    "  - Aplicar los conceptos aprendidos en clases.\n",
    "  - Realizar el análisis de un dataset de su preferencia.\n",
    "  - Familiarizarse con el manejo de versiones a través de Git\n",
    "\n",
    "**Puntaje Total:** 24 Puntos\n",
    "\n",
    "**Nombre Estudiante(s)**: `Jeanette León Vejar`\n",
    "\n",
    "**Link Github**: [GitHub Proyecto Final](https://github.com/JeanetteLeon/Python_Proyecto_Final)"
   ]
  },
  {
   "cell_type": "markdown",
   "metadata": {},
   "source": [
    "### Propuesta de Aplicación Práctica Basada en el Dataset de IMDb\n",
    "\n",
    "\n",
    "\n",
    "1. `Introducción`\n",
    "\n",
    "El análisis de los datos de las calificaciones de IMDb y los Metascores nos permite obtener información valiosa sobre la percepción y popularidad de las películas. Basado en estos datos, proponemos desarrollar una página web que ofrezca recomendaciones personalizadas de películas utilizando algoritmos de machine learning y análisis predictivo.\n",
    "\n",
    "\n",
    "2. `Descripción`\n",
    "\n",
    "- Nombre página WEB: Top_Films\n",
    "\n",
    "- Objetivo: Proporcionar recomendaciones de películas personalizadas utilizando algoritmos de machine learning basados en las calificaciones de IMDb y Metascores, además de las preferencias personales de los usuarios.\n",
    "\n",
    "3. `Funciones principales`\n",
    "\n",
    "- Los usuarios se podrán registran y crear un perfil indicando sus preferencias de género, directores, actores favoritos y calificaciones de películas que han visto.\n",
    "\n",
    "- La página WEB recomendará películas que coincidan con los gustos del usuario.\n",
    "\n",
    "- Los usuarios pueden buscar películas utilizando filtros como género, duración, calificación mínima de IMDb, Metascore mínimo, etc.\n",
    "\n",
    "- La aplicación mostrará análisis de tendencias, como las películas más populares en diferentes géneros, las más votadas y las mejor calificadas según los Metascores.\n",
    "\n",
    "4. `Implementación`\n",
    "\n",
    "- Limpiar y preparar los datos existentes para su uso en los algoritmos de machine learning.\n",
    "\n",
    "- Implementar modelos de machine learning para recomendaciones personalizadas, como el filtrado colaborativo y el filtrado basado en contenido.\n",
    "\n",
    "- Crear una interfaz de usuario amigable y atractiva.\n",
    "\n",
    "- Integrar los modelos de recomendación con la interfaz de usuario para proporcionar recomendaciones en tiempo real.\n",
    "\n",
    "- La página WEB debe ser capaz de manejar un gran número de usuarios y solicitudes simultáneamente.\n",
    "\n",
    "5. `Conclusión`\n",
    "\n",
    "\n",
    "La Página WEB proporcionará a los usuarios una manera eficiente y personalizada de descubrir nuevas películas basadas en sus gustos y preferencias, aprovechando el análisis de datos de IMDb y Metascores. Esta propuesta permite utilizar el análisis de datos, machine learning y desarrollo de aplicaciones, ofreciendo una solución práctica y valiosa en el ámbito del entretenimiento.\n",
    "\n"
   ]
  }
 ],
 "metadata": {
  "kernelspec": {
   "display_name": "proyecto_final (Python 3.12)",
   "language": "python",
   "name": "proyecto_final"
  },
  "language_info": {
   "codemirror_mode": {
    "name": "ipython",
    "version": 3
   },
   "file_extension": ".py",
   "mimetype": "text/x-python",
   "name": "python",
   "nbconvert_exporter": "python",
   "pygments_lexer": "ipython3",
   "version": "3.12.4"
  }
 },
 "nbformat": 4,
 "nbformat_minor": 2
}
