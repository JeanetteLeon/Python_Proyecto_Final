{
 "cells": [
  {
   "cell_type": "code",
   "execution_count": 1,
   "metadata": {},
   "outputs": [],
   "source": [
    "# Librerías\n",
    "import pandas as pd\n"
   ]
  },
  {
   "cell_type": "markdown",
   "metadata": {},
   "source": [
    "#### Selección de dataset: `IMDb Top 10000 Movies Dataset`\n",
    "\n",
    "\n",
    "\n",
    "Este dataset consta de una colección meticulosa de 10 mil largometrajes recopilados de IMDb, una de las fuentes de información cinematográfica más populares y autorizadas. Las películas incluidas en este conjunto de datos están ordenadas según sus calificaciones de IMDb en orden descendente. El conjunto de datos cubre una amplia gama de géneros, directores y estrellas, y proporciona una descripción general completa de películas de gran prestigio en varias categorías. El proceso de extracción se realizó el 17 de junio de 2023.\n",
    "\n",
    "Link Kaggle: [IMDb Top 10000 Movies Dataset](https://www.kaggle.com/datasets/moazeldsokyx/imdb-top-10000-movies-dataset)\n",
    "\n",
    "<div>\n",
    "<img src=\"data:image/png;base64,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\"/>\n",
    "</div>\n",
    "\n"
   ]
  },
  {
   "cell_type": "markdown",
   "metadata": {},
   "source": [
    "## Inspección de datos \n",
    "\n",
    "#### A continuación se describen las columnas del dataset, donde se menciona qué representa y el tipo de dato:\n",
    "\n",
    "- `ID` (string): Identificador único para cada película en el conjunto de datos.\n",
    "- `Movie Name` (string): El título de la película.\n",
    "- `Rating` (string): La calificación de IMDb para la película.\n",
    "- `Runtime` (integer): La duración de la película en minutos.\n",
    "- `Genre` (string): El género al que pertenece la película.\n",
    "- `Metascore` (integer): La calificación de Metascore para la película (si está disponible).\n",
    "- `Plot` (string): Un breve resumen o descripción de la trama de la película..\n",
    "- `Directors` (string): El director o directores de la película.\n",
    "- `Stars` (string):  El elenco principal o los actores que aparecen en la película.\n",
    "- `Votes` (string): La cantidad de votos/calificaciones que recibió la película.\n",
    "- `Gross` (string): Los ingresos brutos generados por la película (si está disponible).\n",
    "- `Link` (string): El enlace de IMDb para acceder a los detalles completos e información adicional sobre la película.\n",
    "\n",
    ". \n"
   ]
  },
  {
   "cell_type": "code",
   "execution_count": null,
   "metadata": {},
   "outputs": [],
   "source": []
  }
 ],
 "metadata": {
  "kernelspec": {
   "display_name": "proyecto_final (Python 3.12)",
   "language": "python",
   "name": "proyecto_final"
  },
  "language_info": {
   "codemirror_mode": {
    "name": "ipython",
    "version": 3
   },
   "file_extension": ".py",
   "mimetype": "text/x-python",
   "name": "python",
   "nbconvert_exporter": "python",
   "pygments_lexer": "ipython3",
   "version": "3.12.4"
  }
 },
 "nbformat": 4,
 "nbformat_minor": 2
}
